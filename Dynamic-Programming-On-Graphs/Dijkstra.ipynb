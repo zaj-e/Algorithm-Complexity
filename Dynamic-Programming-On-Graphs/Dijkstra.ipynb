{
 "cells": [
  {
   "cell_type": "markdown",
   "metadata": {},
   "source": [
    "No da resultado esperado con pesos negativos"
   ]
  },
  {
   "cell_type": "code",
   "execution_count": 1,
   "metadata": {},
   "outputs": [],
   "source": [
    "import math\n",
    "import heapq"
   ]
  },
  {
   "cell_type": "code",
   "execution_count": 2,
   "metadata": {},
   "outputs": [
    {
     "name": "stdout",
     "output_type": "stream",
     "text": [
      "\n"
     ]
    }
   ],
   "source": [
    "def dijkstra(G, s):\n",
    "    n = len(G)\n",
    "    visited = [False]*n\n",
    "    weights = [math.inf]*n\n",
    "    path = [None]*n\n",
    "    queue = []\n",
    "    weights[s] = 0\n",
    "    heapq.heappush(queue, (0, s))\n",
    "    while len(queue) > 0:\n",
    "        g, u = heapq.heappop(queue)\n",
    "        visited[u] = True\n",
    "        for v, w in G[u]:\n",
    "            if not visited[v]:\n",
    "                f = g + w\n",
    "                if f < weights[v]:\n",
    "                    weights[v] = f\n",
    "                    path[v] = u\n",
    "                    heapq.heappush(queue, (f, v))\n",
    "    return path, weights\n",
    "print()"
   ]
  },
  {
   "cell_type": "code",
   "execution_count": 3,
   "metadata": {},
   "outputs": [],
   "source": [
    "def printPath(path, pesos, f, F):\n",
    "    if f!= None:\n",
    "        printPath(path, pesos, path[f],F)\n",
    "        print(f, end=' ')\n",
    "    else:\n",
    "        print('W=%2.0f:'%(pesos[F]),end=' ')\n",
    "        \n",
    "L = ['A','B','C','D','E','F']    \n",
    "    \n",
    "def printPathLetter(path, pesos, f, F):\n",
    "    if f!= None:\n",
    "        printPathLetter(path, pesos, path[f],F)\n",
    "        print(L[f], end=' ')\n",
    "    else:\n",
    "        print('W=%2.0f:'%(pesos[F]),end=' ')"
   ]
  },
  {
   "cell_type": "code",
   "execution_count": 4,
   "metadata": {},
   "outputs": [
    {
     "name": "stdout",
     "output_type": "stream",
     "text": [
      "[None, 0, 0, 2, 1, 4]\n",
      "[0, 1, 2, 7, 4, 8]\n",
      "W= 0: A \n",
      "W= 1: A B \n",
      "W= 2: A C \n",
      "W= 7: A C D \n",
      "W= 4: A B E \n",
      "W= 8: A B E F \n"
     ]
    }
   ],
   "source": [
    "G = [[(1, 1), (2, 2), (3, 8)],\n",
    "    [(4, 3)],\n",
    "    [(4, 3),(5, 8), (3, 5)],\n",
    "    [(5, 12)],\n",
    "    [(5, 4)],\n",
    "    []]\n",
    "\n",
    "p, d = dijkstra(G,0)\n",
    "print(p)\n",
    "print(d)\n",
    "for n in range(len(G)):\n",
    "    printPathLetter(p,d,n,n)\n",
    "    print()"
   ]
  },
  {
   "cell_type": "code",
   "execution_count": 5,
   "metadata": {},
   "outputs": [
    {
     "name": "stdout",
     "output_type": "stream",
     "text": [
      "[None, 0, 3, 0, 1]\n",
      "[0, 6, 4, 7, 2]\n",
      "W= 0: A \n",
      "W= 6: A B \n",
      "W= 4: A D C \n",
      "W= 7: A D \n",
      "W= 2: A B E \n"
     ]
    }
   ],
   "source": [
    "G = [[(1, 6), (3, 7)],\n",
    "    [(2, 5),(3, 8),(4, -4)],\n",
    "    [(1, -2),(4, 7)],\n",
    "    [(2, -3),(4, 9)],\n",
    "    [(0, 2)]]\n",
    "\n",
    "p, d = dijkstra(G,0)\n",
    "print(p)\n",
    "print(d)\n",
    "for n in range(len(G)):\n",
    "    printPathLetter(p,d,n,n)\n",
    "    print()"
   ]
  },
  {
   "cell_type": "code",
   "execution_count": null,
   "metadata": {},
   "outputs": [],
   "source": []
  }
 ],
 "metadata": {
  "kernelspec": {
   "display_name": "Python 3",
   "language": "python",
   "name": "python3"
  },
  "language_info": {
   "codemirror_mode": {
    "name": "ipython",
    "version": 3
   },
   "file_extension": ".py",
   "mimetype": "text/x-python",
   "name": "python",
   "nbconvert_exporter": "python",
   "pygments_lexer": "ipython3",
   "version": "3.8.3"
  }
 },
 "nbformat": 4,
 "nbformat_minor": 4
}
