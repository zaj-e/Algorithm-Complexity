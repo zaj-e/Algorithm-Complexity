{
 "cells": [
  {
   "cell_type": "code",
   "execution_count": 1,
   "metadata": {},
   "outputs": [],
   "source": [
    "##Lol"
   ]
  },
  {
   "cell_type": "code",
   "execution_count": 2,
   "metadata": {},
   "outputs": [],
   "source": [
    "import math\n",
    "import heapq as hq"
   ]
  },
  {
   "cell_type": "code",
   "execution_count": 3,
   "metadata": {},
   "outputs": [],
   "source": [
    "def bellmanFord(G, s):\n",
    "    n = len(G)\n",
    "    d = [math.inf]*n\n",
    "    d[s] = s\n",
    "    for _ in range(n-1):\n",
    "        for u in range(n):\n",
    "            for v, w in G[u]:\n",
    "                dist = d[u] + w \n",
    "                if dist < d[v]:\n",
    "                    d[v] = dist\n",
    "\n",
    "    return d"
   ]
  },
  {
   "cell_type": "code",
   "execution_count": 4,
   "metadata": {},
   "outputs": [],
   "source": [
    "def dijkstra(G, s): \n",
    "    n = len(G)\n",
    "    visited = [False]*n\n",
    "    weights = [math.inf]*n\n",
    "    path = [None]*n\n",
    "    queue = []\n",
    "    weights[s] = 0\n",
    "    hq.heappush(queue, (0, s))\n",
    "    while len(queue) > 0:\n",
    "        g, u = hq.heappop(queue)\n",
    "        visited[u] = True\n",
    "        for v, w in G[u]:\n",
    "            if not visited[v]:\n",
    "                f = g + w \n",
    "                if f < weights[v]: \n",
    "                    weights[v] = f\n",
    "                    path[v] = u\n",
    "                    hq.heappush(queue, (f, v)) \n",
    "    return weights,path"
   ]
  },
  {
   "cell_type": "code",
   "execution_count": 5,
   "metadata": {},
   "outputs": [],
   "source": [
    "def Jhonson(G):\n",
    "    n = len(G) \n",
    "    G.append([(n-1,0)])\n",
    "    pb=bellmanFord(G,n)\n",
    "    Gp=[[] for _ in range(n)]\n",
    "    for u in range(n):\n",
    "        for v,Ce in G[u]:\n",
    "            print(pb[u],pb[v])\n",
    "            Gp[u].append((v,Ce+pb[u]-pb[v]))\n",
    "  \n",
    "    paths =[[] for _ in range(n)]\n",
    "    weights = [[] for _ in range(n)]\n",
    "    for u in range(n):\n",
    "        weights[u], paths[u]=dijkstra(Gp,u)\n",
    "    return paths, weights"
   ]
  },
  {
   "cell_type": "code",
   "execution_count": 6,
   "metadata": {},
   "outputs": [
    {
     "name": "stdout",
     "output_type": "stream",
     "text": [
      "3 0\n",
      "3 4\n",
      "0 3\n",
      "0 3\n",
      "3 3\n",
      "4 3\n",
      "4 3\n",
      "[[None, 0, 1, 0], [2, None, 1, 0], [2, 0, None, 0], [3, 0, 1, None]]\n",
      "[[0, 0, 0, 1], [1, 0, 0, 2], [1, 1, 0, 2], [0, 0, 0, 0]]\n"
     ]
    }
   ],
   "source": [
    "G=[[(1,-3),(3,2)],\n",
    "  [(2,3),(0,5)],\n",
    "  [(0,1)],\n",
    "  [(2,4),(0,-1)]]\n",
    "p,w= Jhonson(G)\n",
    "print(p)\n",
    "print(w)"
   ]
  },
  {
   "cell_type": "code",
   "execution_count": 7,
   "metadata": {},
   "outputs": [
    {
     "name": "stdout",
     "output_type": "stream",
     "text": [
      "inf inf\n",
      "inf inf\n",
      "inf 7\n",
      "inf 2\n",
      "inf inf\n",
      "6 7\n",
      "6 2\n",
      "[[None, None, None, None, None, None], [None, None, None, None, None, None], [None, None, None, None, None, None], [None, None, None, None, None, None], [None, None, None, None, None, None], [None, None, None, 5, 5, None]]\n",
      "[[0, inf, inf, inf, inf, inf], [inf, 0, inf, inf, inf, inf], [inf, inf, 0, inf, inf, inf], [inf, inf, inf, 0, inf, inf], [inf, inf, inf, inf, 0, inf], [inf, inf, inf, 0, 0, 0]]\n"
     ]
    }
   ],
   "source": [
    "G =[[(1,-2)],\n",
    "    [(2,-1)],\n",
    "    [(3,2),(4,-3),(0,4)],\n",
    "    [],\n",
    "    [],\n",
    "    [(3,1),(4,-4)]]\n",
    "p,w= Jhonson(G)\n",
    "print(p)\n",
    "print(w)"
   ]
  },
  {
   "cell_type": "code",
   "execution_count": null,
   "metadata": {},
   "outputs": [],
   "source": []
  }
 ],
 "metadata": {
  "kernelspec": {
   "display_name": "Python 3",
   "language": "python",
   "name": "python3"
  },
  "language_info": {
   "codemirror_mode": {
    "name": "ipython",
    "version": 3
   },
   "file_extension": ".py",
   "mimetype": "text/x-python",
   "name": "python",
   "nbconvert_exporter": "python",
   "pygments_lexer": "ipython3",
   "version": "3.8.3"
  }
 },
 "nbformat": 4,
 "nbformat_minor": 4
}
