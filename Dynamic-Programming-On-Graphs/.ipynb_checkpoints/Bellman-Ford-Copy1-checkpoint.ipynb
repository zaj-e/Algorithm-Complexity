{
 "cells": [
  {
   "cell_type": "markdown",
   "metadata": {},
   "source": [
    "# Algoritmo de Bellman-Ford\n",
    "- El grafo es dirigido\n",
    "- Pueden haber ciclos\n",
    "- Determina si hay ciclos negativos, y manda una excepcion. Por ejemplo, si ciclo 2<1 y en proxima 3<2 y 4<3 nunca termina. No se hace problema con pesos negativos"
   ]
  },
  {
   "cell_type": "code",
   "execution_count": 1,
   "metadata": {},
   "outputs": [],
   "source": [
    "import math"
   ]
  },
  {
   "cell_type": "code",
   "execution_count": 2,
   "metadata": {},
   "outputs": [],
   "source": [
    "def bellmanFord(G, initial_node):\n",
    "    #initialization stage\n",
    "    n_nodes = len(G)\n",
    "    distance = [math.inf]*n_nodes\n",
    "    path = [None]*n_nodes\n",
    "    distance[initial_node] = 0\n",
    "    #relaxation stage\n",
    "    for _ in range(n_nodes-1):\n",
    "        for current in range(n_nodes):\n",
    "            for brother, weight in G[current]:\n",
    "                if distance[brother] > distance[current] + weight:\n",
    "                    distance[brother] = distance[current] + weight\n",
    "                    path[brother] = current\n",
    "    #Report negative cycles stage\n",
    "    for current in range(n_nodes):\n",
    "        for brother, weight in G[current]:\n",
    "            if distance[brother] > distance[current]+weight:\n",
    "                print(\"oh noo, ciclo negativo\")\n",
    "                return\n",
    "    return path, distance"
   ]
  },
  {
   "cell_type": "code",
   "execution_count": 3,
   "metadata": {},
   "outputs": [],
   "source": [
    "def printPath(path, pesos, f, F):\n",
    "    if f!= None:\n",
    "        printPath(path, pesos, path[f],F)\n",
    "        print(f, end=' ')\n",
    "    else:\n",
    "        print('W=%2.0f:'%(pesos[F]),end=' ')\n",
    "        \n",
    "L = ['A','B','C','D','E','F']    \n",
    "    \n",
    "def printPathLetter(path, pesos, f, F):\n",
    "    if f!= None:\n",
    "        printPathLetter(path, pesos, path[f],F)\n",
    "        print(L[f], end=' ')\n",
    "    else:\n",
    "        print('W=%2.0f:'%(pesos[F]),end=' ')"
   ]
  },
  {
   "cell_type": "code",
   "execution_count": 4,
   "metadata": {},
   "outputs": [
    {
     "name": "stdout",
     "output_type": "stream",
     "text": [
      "[None, 0, 0, 2, 1, 4]\n",
      "[0, 1, 2, 7, 4, 8]\n",
      "W= 0: A \n",
      "W= 1: A B \n",
      "W= 2: A C \n",
      "W= 7: A C D \n",
      "W= 4: A B E \n",
      "W= 8: A B E F \n"
     ]
    }
   ],
   "source": [
    "G = [[(1, 1), (2, 2), (3, 8)],\n",
    "    [(4, 3)],\n",
    "    [(4, 3),(5, 8), (3, 5)],\n",
    "    [(5, 12)],\n",
    "    [(5, 4)],\n",
    "    []]\n",
    "\n",
    "p, d = bellmanFord(G,0)\n",
    "print(p)\n",
    "print(d)\n",
    "for n in range(len(G)):\n",
    "    printPathLetter(p,d,n,n)\n",
    "    print()"
   ]
  },
  {
   "cell_type": "code",
   "execution_count": 6,
   "metadata": {},
   "outputs": [
    {
     "name": "stdout",
     "output_type": "stream",
     "text": [
      "oh noo, ciclo negativo\n"
     ]
    },
    {
     "ename": "TypeError",
     "evalue": "cannot unpack non-iterable NoneType object",
     "output_type": "error",
     "traceback": [
      "\u001b[1;31m---------------------------------------------------------------------------\u001b[0m",
      "\u001b[1;31mTypeError\u001b[0m                                 Traceback (most recent call last)",
      "\u001b[1;32m<ipython-input-6-1cb286165ff1>\u001b[0m in \u001b[0;36m<module>\u001b[1;34m\u001b[0m\n\u001b[0;32m      5\u001b[0m     [(0, 2)]]\n\u001b[0;32m      6\u001b[0m \u001b[1;33m\u001b[0m\u001b[0m\n\u001b[1;32m----> 7\u001b[1;33m \u001b[0mp\u001b[0m\u001b[1;33m,\u001b[0m \u001b[0md\u001b[0m \u001b[1;33m=\u001b[0m \u001b[0mbellmanFord\u001b[0m\u001b[1;33m(\u001b[0m\u001b[0mG\u001b[0m\u001b[1;33m,\u001b[0m\u001b[1;36m0\u001b[0m\u001b[1;33m)\u001b[0m\u001b[1;33m\u001b[0m\u001b[1;33m\u001b[0m\u001b[0m\n\u001b[0m\u001b[0;32m      8\u001b[0m \u001b[0mprint\u001b[0m\u001b[1;33m(\u001b[0m\u001b[0mp\u001b[0m\u001b[1;33m)\u001b[0m\u001b[1;33m\u001b[0m\u001b[1;33m\u001b[0m\u001b[0m\n\u001b[0;32m      9\u001b[0m \u001b[0mprint\u001b[0m\u001b[1;33m(\u001b[0m\u001b[0md\u001b[0m\u001b[1;33m)\u001b[0m\u001b[1;33m\u001b[0m\u001b[1;33m\u001b[0m\u001b[0m\n",
      "\u001b[1;31mTypeError\u001b[0m: cannot unpack non-iterable NoneType object"
     ]
    }
   ],
   "source": [
    "G = [[(1, 6), (3, 7),(1,-2)],\n",
    "    [(2, 5),(3, 8),(4, -4),(0,-3)],\n",
    "    [(1, -2),(4, 7)],\n",
    "    [(2, -3),(4, 9)],\n",
    "    [(0, 2)]]\n",
    "\n",
    "p, d = bellmanFord(G,0)\n",
    "print(p)\n",
    "print(d)\n",
    "for n in range(len(G)):\n",
    "    printPathLetter(p,d,n,n)\n",
    "    print()"
   ]
  },
  {
   "cell_type": "code",
   "execution_count": null,
   "metadata": {},
   "outputs": [],
   "source": []
  }
 ],
 "metadata": {
  "kernelspec": {
   "display_name": "Python 3",
   "language": "python",
   "name": "python3"
  },
  "language_info": {
   "codemirror_mode": {
    "name": "ipython",
    "version": 3
   },
   "file_extension": ".py",
   "mimetype": "text/x-python",
   "name": "python",
   "nbconvert_exporter": "python",
   "pygments_lexer": "ipython3",
   "version": "3.8.3"
  }
 },
 "nbformat": 4,
 "nbformat_minor": 4
}
