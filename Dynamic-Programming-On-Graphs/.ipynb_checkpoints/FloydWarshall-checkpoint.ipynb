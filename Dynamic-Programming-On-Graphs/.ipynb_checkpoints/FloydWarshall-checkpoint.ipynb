{
 "cells": [
  {
   "cell_type": "markdown",
   "metadata": {},
   "source": [
    "# Floyd Warshall O(V^3)"
   ]
  },
  {
   "cell_type": "code",
   "execution_count": 1,
   "metadata": {},
   "outputs": [],
   "source": [
    "import math"
   ]
  },
  {
   "cell_type": "code",
   "execution_count": 2,
   "metadata": {},
   "outputs": [],
   "source": [
    "def floydwarshall(G):\n",
    "    n = len(G)\n",
    "    d=[[math.inf]*n for _ in range(n) ]\n",
    "    p=[[-1]*n for _ in range(n)]\n",
    "    for u in range(n):\n",
    "        d[u][u] =0\n",
    "        for v, w in G[u]:\n",
    "            d[u][v]=w\n",
    "            p[u][v]=u\n",
    "    for k in range(n):\n",
    "        for i in range(n):\n",
    "            for j in range(n):\n",
    "                f = d[i][k]+d[k][j]\n",
    "                if d[i][j]>f:\n",
    "                    d[i][j]=f\n",
    "                    p[i][j]=k\n",
    "    return p, d"
   ]
  },
  {
   "cell_type": "code",
   "execution_count": 3,
   "metadata": {},
   "outputs": [],
   "source": [
    "GG =[[(2,-2)],\n",
    "     [(0,4),(2,3)],\n",
    "     [(3,2)],\n",
    "     [(1,-1)]]"
   ]
  },
  {
   "cell_type": "code",
   "execution_count": 4,
   "metadata": {},
   "outputs": [],
   "source": [
    "G =[[(1,1),(2,2),(3,8)],\n",
    "    [(4,3)],\n",
    "    [(4,3),(5,8),(3,5)],\n",
    "    [(5,12)],\n",
    "    [(5,4)],\n",
    "    []]\n"
   ]
  },
  {
   "cell_type": "code",
   "execution_count": 5,
   "metadata": {},
   "outputs": [],
   "source": [
    "L =['A','B','C','D','E','F']\n",
    "def printPath(path, weights, f, F):\n",
    "    if f != -1:\n",
    "        printPath(path, weights, path[f], F)\n",
    "        print(L[f], end=' ')\n",
    "    else:\n",
    "        print('W=%2.0f:'%(weights[F]), end=' ')"
   ]
  },
  {
   "cell_type": "code",
   "execution_count": 6,
   "metadata": {},
   "outputs": [
    {
     "name": "stdout",
     "output_type": "stream",
     "text": [
      "[[-1, 0, 0, 2, 1, 4], [-1, -1, -1, -1, 1, 4], [-1, -1, -1, 2, 2, 4], [-1, -1, -1, -1, -1, 3], [-1, -1, -1, -1, -1, 4], [-1, -1, -1, -1, -1, -1]]\n",
      "[[0, 1, 2, 7, 4, 8], [inf, 0, inf, inf, 3, 7], [inf, inf, 0, 5, 3, 7], [inf, inf, inf, 0, inf, 12], [inf, inf, inf, inf, 0, 4], [inf, inf, inf, inf, inf, 0]]\n"
     ]
    }
   ],
   "source": [
    "p, d= floydwarshall(G) \n",
    "print(p)\n",
    "print(d)"
   ]
  },
  {
   "cell_type": "code",
   "execution_count": 7,
   "metadata": {},
   "outputs": [
    {
     "name": "stdout",
     "output_type": "stream",
     "text": [
      "W= 0: A \n",
      "W= 1: A B \n",
      "W= 2: A C \n",
      "W= 7: A C D \n",
      "W= 4: A B E \n",
      "W= 8: A B E F \n"
     ]
    }
   ],
   "source": [
    "for n in range(len(G)):\n",
    "    printPath(p[0],d[0],n,n)\n",
    "    print()"
   ]
  },
  {
   "cell_type": "code",
   "execution_count": null,
   "metadata": {},
   "outputs": [],
   "source": []
  }
 ],
 "metadata": {
  "kernelspec": {
   "display_name": "Python 3",
   "language": "python",
   "name": "python3"
  },
  "language_info": {
   "codemirror_mode": {
    "name": "ipython",
    "version": 3
   },
   "file_extension": ".py",
   "mimetype": "text/x-python",
   "name": "python",
   "nbconvert_exporter": "python",
   "pygments_lexer": "ipython3",
   "version": "3.8.3"
  }
 },
 "nbformat": 4,
 "nbformat_minor": 4
}
