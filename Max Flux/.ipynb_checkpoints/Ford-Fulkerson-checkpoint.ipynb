{
 "cells": [
  {
   "cell_type": "code",
   "execution_count": 1,
   "metadata": {},
   "outputs": [],
   "source": [
    "import math"
   ]
  },
  {
   "cell_type": "code",
   "execution_count": 2,
   "metadata": {},
   "outputs": [],
   "source": [
    "def bfs(graph, start, end, path):\n",
    "    size = len(graph)\n",
    "    visited = [False for i in range(size)]\n",
    "    queue = []\n",
    "    queue.append(start)\n",
    "    visited[start] = True\n",
    "\n",
    "    while len(queue) > 0:\n",
    "        idx = queue.pop(0)\n",
    "        for jdx, val in enumerate(graph[idx]):\n",
    "            if not visited[jdx] and val > 0:\n",
    "                visited[jdx] = True\n",
    "                queue.append(jdx)\n",
    "                path[jdx] = idx\n",
    "    return visited[end]\n",
    "def fordfulkerson(graph,start,end):\n",
    "    n=len(graph)\n",
    "    max_flow=0\n",
    "    path = [None for i in range(n)]\n",
    "    dgraph =[[0 for jdx in range(n)] for idx in range(n) ]\n",
    "    rgraph =[[0 for jdx in range(n)] for idx in range(n) ]\n",
    "    for (idx, node) in enumerate(graph):    \n",
    "        for jdx, w in node: \n",
    "            dgraph[idx][jdx]=w \n",
    "    p = bfs(dgraph, start, end , path) \n",
    "    while bfs(dgraph, start, end , path):\n",
    "        path_flow = math.inf\n",
    "        temp = end\n",
    "        while temp!=start:\n",
    "            path_flow =min(path_flow,dgraph[path[temp]][temp])\n",
    "            temp = path[temp] \n",
    "        max_flow+=path_flow\n",
    "    \n",
    "        temp = end\n",
    "        while temp!=start:      \n",
    "            dgraph[path[temp]][temp]-=path_flow\n",
    "            rgraph[path[temp]][temp]+=path_flow\n",
    "            temp =path[temp]\n",
    "    return max_flow"
   ]
  },
  {
   "cell_type": "code",
   "execution_count": 3,
   "metadata": {},
   "outputs": [
    {
     "name": "stdout",
     "output_type": "stream",
     "text": [
      "4\n"
     ]
    }
   ],
   "source": [
    "graph = [\n",
    "        [(1, 2), (2, 3)],\n",
    "        [(3, 3)],\n",
    "        [(3, 2)],\n",
    "        []\n",
    "    ]\n",
    "max_flow= fordfulkerson(graph, 0,3)\n",
    "print(max_flow)"
   ]
  },
  {
   "cell_type": "code",
   "execution_count": 5,
   "metadata": {},
   "outputs": [
    {
     "name": "stdout",
     "output_type": "stream",
     "text": [
      "29\n"
     ]
    }
   ],
   "source": [
    "graph = [[(1,16),(3,13)],\n",
    "[(2,12),(3,10)],\n",
    "[(3,9),(5,20)],\n",
    "[(1,4),(4,14)],\n",
    "[(2,7),(5,4)],\n",
    "[]]\n",
    "max_flow= fordfulkerson(graph, 0,3)\n",
    "print(max_flow)"
   ]
  },
  {
   "cell_type": "code",
   "execution_count": 8,
   "metadata": {},
   "outputs": [
    {
     "name": "stdout",
     "output_type": "stream",
     "text": [
      "23\n"
     ]
    }
   ],
   "source": [
    "graph = [[(1,16),(3,13)],\n",
    "[(2,12),(3,10)],\n",
    "[(3,9),(5,20)],\n",
    "[(1,4),(4,14)],\n",
    "[(2,7),(5,4)],\n",
    "[]]\n",
    "max_flow= fordfulkerson(graph, 0,5)\n",
    "print(max_flow)"
   ]
  },
  {
   "cell_type": "code",
   "execution_count": 9,
   "metadata": {},
   "outputs": [
    {
     "name": "stdout",
     "output_type": "stream",
     "text": [
      "23\n"
     ]
    }
   ],
   "source": [
    "graph = [[(1,16),(3,13)],\n",
    "[(2,12),(3,4)],\n",
    "[(3,9),(5,20)],\n",
    "[(1,10),(4,14)],\n",
    "[(2,7),(5,4)],\n",
    "[]]\n",
    "max_flow= fordfulkerson(graph, 0,5)\n",
    "print(max_flow)"
   ]
  },
  {
   "cell_type": "code",
   "execution_count": null,
   "metadata": {},
   "outputs": [],
   "source": []
  }
 ],
 "metadata": {
  "kernelspec": {
   "display_name": "Python 3",
   "language": "python",
   "name": "python3"
  },
  "language_info": {
   "codemirror_mode": {
    "name": "ipython",
    "version": 3
   },
   "file_extension": ".py",
   "mimetype": "text/x-python",
   "name": "python",
   "nbconvert_exporter": "python",
   "pygments_lexer": "ipython3",
   "version": "3.8.3"
  }
 },
 "nbformat": 4,
 "nbformat_minor": 4
}
