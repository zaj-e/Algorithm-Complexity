{
 "cells": [
  {
   "cell_type": "code",
   "execution_count": 1,
   "metadata": {},
   "outputs": [],
   "source": [
    "Pa = [3, 3, 3, 6, 9, 12, 9, 9, 6, 3, 3, 3, 3]"
   ]
  },
  {
   "cell_type": "code",
   "execution_count": 2,
   "metadata": {},
   "outputs": [
    {
     "name": "stdout",
     "output_type": "stream",
     "text": [
      "Cache pajarito [1, 2, 3, 4, 5, 6, 7, 6, 5, 4, 3, 4, 3]\n",
      "Lista de distancias absolutas [2, 1, 0, 2, 4, 6, 2, 3, 1, 1, 0, 1, 0]\n",
      "distancia total: 23\n"
     ]
    }
   ],
   "source": [
    "def recorrido(Pa):\n",
    "    n=len(Pa)\n",
    "    cache=[0]*n\n",
    "    cache[0]=1\n",
    "    dist=[0]*n\n",
    "    for i in range(n):     \n",
    "        #print(i,i-2,Pa[i-2],Pa[i],cache[i-1])\n",
    "        if Pa[i-2]>Pa[i] and Pa[i]>=cache[i-1] or Pa[i]<cache[i-1] :\n",
    "            cache[i]=cache[i-1]-1\n",
    "        elif Pa[i]>=cache[i-1]:\n",
    "            cache[i]=cache[i-1]+1\n",
    "        dist[i]=abs(Pa[i]-cache[i])     \n",
    "    return cache,dist\n",
    "cache,D=recorrido(Pa)\n",
    "print(\"Cache pajarito\",cache)\n",
    "print(\"Lista de distancias absolutas\",D)\n",
    "def sumaTotalDistancia(ds):\n",
    "    suma=0\n",
    "    for valor in ds:\n",
    "        suma+=valor\n",
    "    return suma\n",
    "print(\"distancia total:\",sumaTotalDistancia(D))"
   ]
  },
  {
   "cell_type": "code",
   "execution_count": 3,
   "metadata": {},
   "outputs": [
    {
     "name": "stdout",
     "output_type": "stream",
     "text": [
      "23\n",
      "16383\n"
     ]
    }
   ],
   "source": [
    "I = 13\n",
    "a = [0,3, 3, 3, 6, 9, 12, 9, 9, 6, 3, 3, 3, 3]\n",
    "cont =0\n",
    "def f(x, y):\n",
    "    global cont\n",
    "    cont +=1\n",
    "    if x == I:\n",
    "        return abs(a[x]-y)\n",
    "    return min(f(x+1,y+1), f(x+1,y-1)) + abs(a[x]-y) \n",
    "#a.insert(0,0)\n",
    "print(f(0,0))\n",
    "print(cont)"
   ]
  },
  {
   "cell_type": "code",
   "execution_count": null,
   "metadata": {},
   "outputs": [],
   "source": []
  }
 ],
 "metadata": {
  "kernelspec": {
   "display_name": "Python 3",
   "language": "python",
   "name": "python3"
  },
  "language_info": {
   "codemirror_mode": {
    "name": "ipython",
    "version": 3
   },
   "file_extension": ".py",
   "mimetype": "text/x-python",
   "name": "python",
   "nbconvert_exporter": "python",
   "pygments_lexer": "ipython3",
   "version": "3.8.3"
  }
 },
 "nbformat": 4,
 "nbformat_minor": 4
}
