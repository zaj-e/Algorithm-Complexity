{
 "cells": [
  {
   "cell_type": "code",
   "execution_count": 1,
   "metadata": {},
   "outputs": [],
   "source": [
    "import math"
   ]
  },
  {
   "cell_type": "code",
   "execution_count": 2,
   "metadata": {},
   "outputs": [],
   "source": [
    "def monedas(d,n):\n",
    "    cache=[-1]*(n+1)\n",
    "    k=len(d)\n",
    "    s=[0]*(n+1)\n",
    "    def cambio(valor):\n",
    "        if valor<0:\n",
    "            return math.inf\n",
    "        if valor==0:\n",
    "            return 0\n",
    "        if cache[valor]!=-1:\n",
    "            return cache[valor]\n",
    "        minimo = math.inf\n",
    "        for i in range(k):\n",
    "            if 1+cambio(valor-d[i])<minimo:\n",
    "                minimo=1+cambio(valor-d[i])\n",
    "                moneda =i\n",
    "        cache[valor]=minimo\n",
    "        s[valor]=moneda\n",
    "        return cache[valor], s[valor]\n",
    "\n",
    "    result=[]\n",
    "    for i in range(n+1):\n",
    "        if i!=0:\n",
    "            result.append(cambio(i))\n",
    "  \n",
    "    x,y = result[34]\n",
    "    print(\"Se necesitan en %d monedas en total\"%(x))"
   ]
  },
  {
   "cell_type": "code",
   "execution_count": 3,
   "metadata": {},
   "outputs": [],
   "source": [
    "def cambio(d,n):\n",
    "    k = len(d)\n",
    "    cache = [math.inf] * (n + 1)\n",
    "    s = [0] * (n + 1)\n",
    "    cache[0] = 0\n",
    "    for valor in range(1,n+1):\n",
    "        minimo = math.inf\n",
    "        for i in range(k):\n",
    "            if d[i]<=valor:\n",
    "                if 1+ cache[valor-d[i]]<minimo:\n",
    "                    minimo = 1+cache[valor-d[i]]\n",
    "                    moneda =i\n",
    "        cache[valor]=minimo\n",
    "        s[valor]=d[moneda]\n",
    "    return cache, s"
   ]
  },
  {
   "cell_type": "code",
   "execution_count": 4,
   "metadata": {},
   "outputs": [],
   "source": [
    "def show(M,p):\n",
    "    c, s = cambio(M,p)\n",
    "    print(\"Se necesitan en %d monedas en total\"%(c[p]))\n",
    "    while p>0:\n",
    "        print(\"1 monedas de %d centimos\"%(s[p]))\n",
    "        p-=s[p]"
   ]
  },
  {
   "cell_type": "code",
   "execution_count": 5,
   "metadata": {},
   "outputs": [
    {
     "name": "stdout",
     "output_type": "stream",
     "text": [
      "Se necesitan en 3 monedas en total\n",
      "1 monedas de 10 centimos\n",
      "1 monedas de 25 centimos\n",
      "1 monedas de 50 centimos\n"
     ]
    }
   ],
   "source": [
    "p = 85\n",
    "M = [1, 5, 10, 20, 25, 50]\n",
    "show(M,p)"
   ]
  },
  {
   "cell_type": "code",
   "execution_count": 6,
   "metadata": {},
   "outputs": [
    {
     "name": "stdout",
     "output_type": "stream",
     "text": [
      "Se necesitan en 2 monedas en total\n",
      "1 monedas de 10 centimos\n",
      "1 monedas de 25 centimos\n"
     ]
    }
   ],
   "source": [
    "p = 35\n",
    "M = [1, 5, 10, 20, 25, 50]\n",
    "show(M,p)"
   ]
  },
  {
   "cell_type": "code",
   "execution_count": null,
   "metadata": {},
   "outputs": [],
   "source": []
  }
 ],
 "metadata": {
  "kernelspec": {
   "display_name": "Python 3",
   "language": "python",
   "name": "python3"
  },
  "language_info": {
   "codemirror_mode": {
    "name": "ipython",
    "version": 3
   },
   "file_extension": ".py",
   "mimetype": "text/x-python",
   "name": "python",
   "nbconvert_exporter": "python",
   "pygments_lexer": "ipython3",
   "version": "3.8.3"
  }
 },
 "nbformat": 4,
 "nbformat_minor": 4
}
