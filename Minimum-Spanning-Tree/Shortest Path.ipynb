{
 "cells": [
  {
   "cell_type": "code",
   "execution_count": 2,
   "metadata": {},
   "outputs": [],
   "source": [
    "from math import sqrt, floor, inf\n",
    "import heapq as hq"
   ]
  },
  {
   "cell_type": "code",
   "execution_count": 4,
   "metadata": {},
   "outputs": [],
   "source": [
    "def find(s, a):\n",
    "    if s[a] < 0:\n",
    "        return a\n",
    "    else:\n",
    "        granpa = find(s, s[a])\n",
    "        s[a] = granpa\n",
    "        return granpa"
   ]
  },
  {
   "cell_type": "code",
   "execution_count": 7,
   "metadata": {},
   "outputs": [],
   "source": [
    "def union(s, a, b):\n",
    "    pa = find(s, a)\n",
    "    pb = find(s, b)\n",
    "    if pa == pb: \n",
    "        return\n",
    "    if s[pa] <= s[pb]:\n",
    "        s[pa] += s[pb]\n",
    "        s[pb] = pa\n",
    "    elif s[pb] < s[pa]:\n",
    "        s[pb] += s[pa]\n",
    "        s[pa] = pb"
   ]
  },
  {
   "cell_type": "code",
   "execution_count": 8,
   "metadata": {},
   "outputs": [],
   "source": [
    "def ordenarAristas(G):\n",
    "    cola = []\n",
    "    for u in range(len(G)):\n",
    "        for v, w in G[u]:\n",
    "            hq.heappush(cola, (w, u, v))\n",
    "    return cola"
   ]
  },
  {
   "cell_type": "code",
   "execution_count": 9,
   "metadata": {},
   "outputs": [],
   "source": [
    "def Kruskal(G):\n",
    "    cola = ordenarAristas(G)\n",
    "    n = len(G)\n",
    "    raices = [-1] * n\n",
    "    T = [-1] * n\n",
    "    c = 0\n",
    "    while len(cola) > 0:\n",
    "        w, u, v = hq.heappop(cola)\n",
    "        if find(raices, u) != find(raices, v):\n",
    "            union(raices, u, v)\n",
    "            T.append((u, v, w))\n",
    "            c += w\n",
    "    return T,c"
   ]
  },
  {
   "cell_type": "code",
   "execution_count": 11,
   "metadata": {},
   "outputs": [],
   "source": [
    "class Faro:\n",
    "    def __init__(self, n, x, y):\n",
    "        self.n = n\n",
    "        self.x = x\n",
    "        self.y = y"
   ]
  },
  {
   "cell_type": "code",
   "execution_count": 12,
   "metadata": {},
   "outputs": [],
   "source": [
    "def CoordenadasFaroles():\n",
    "    Tablero = Faro(0, 0, 0)\n",
    "    Faro1 = Faro(1, 1, 3)\n",
    "    Faro2 = Faro(2, 3, 1)\n",
    "    Faro3 = Faro(3, 2, 2)\n",
    "    Faro4 = Faro(4, 3, 5)\n",
    "    Faro5 = Faro(5, 1, 7)\n",
    "    Faro6 = Faro(6, 8, 6)\n",
    "    Faro7 = Faro(7, 5, 7)\n",
    "    Faro8 = Faro(8, 5, 3)\n",
    "    Faro9 = Faro(9, 8, 1)\n",
    "    Faro10 = Faro(10, 8, 4)\n",
    "    Faro11 = Faro(11, 10, 3)\n",
    "    Faro12 = Faro(12, 12, 1)\n",
    "    Faro13 = Faro(13, 13, 3)\n",
    "    Faro14 = Faro(14, 12, 5)\n",
    "    Faro15 = Faro(15, 12, 7)\n",
    "    ArrFaros = [Tablero, Faro1, Faro2, Faro3, Faro4, Faro5, Faro6, Faro7, Faro8, Faro9, Faro10, Faro11, Faro12, Faro13, Faro14, Faro15]\n",
    "    return ArrFaros"
   ]
  },
  {
   "cell_type": "code",
   "execution_count": 14,
   "metadata": {},
   "outputs": [],
   "source": [
    "def BuildGraph(N):\n",
    "    G = [[] for _ in range(N + 1)] \n",
    "    for i in range(N + 1):\n",
    "        for j in range(i + 1, N + 1):\n",
    "            W = floor( sqrt( pow(Faros[j].x - Faros[i].x, 2) + pow(Faros[j].y - Faros[i].y, 2) )  ) + 2 # ojo\n",
    "            #print(Faros[i].n, Faros[j].n, W)\n",
    "            G[i].append( (j, W)  )\n",
    "    return G"
   ]
  },
  {
   "cell_type": "code",
   "execution_count": 15,
   "metadata": {},
   "outputs": [],
   "source": [
    "def ImprimirConTuplas(T):\n",
    "    for i in range(16, 31):\n",
    "        print(T[i])"
   ]
  },
  {
   "cell_type": "code",
   "execution_count": 16,
   "metadata": {},
   "outputs": [],
   "source": [
    "def ImprimirSinTuplas(T):\n",
    "    for i in range(16, 31):\n",
    "        for j in range(len(T[i])):\n",
    "            print(T[i][j], end=\" \")\n",
    "        print()"
   ]
  },
  {
   "cell_type": "code",
   "execution_count": 17,
   "metadata": {},
   "outputs": [
    {
     "name": "stdout",
     "output_type": "stream",
     "text": [
      "\n"
     ]
    }
   ],
   "source": [
    "Faros = CoordenadasFaroles()\n",
    "print()"
   ]
  },
  {
   "cell_type": "code",
   "execution_count": 18,
   "metadata": {},
   "outputs": [],
   "source": [
    "# Con BuildGraph armo el grafo automaticamente, pero al parecer los pesos no se calculan exactamente igual\n",
    "# puede que sea por la funcion floor, que se usa para aproximar numeros, este aproximando distinto\n",
    "#N = 15\n",
    "#G = BuildGraph(N)\n",
    "\n",
    "# Este seria el grafo exacto que dieron como input en la hoja de ejrcicios, el costo seria 58\n",
    "# El grafo creado con BuildGraph difiere en algunos de los pesos, y da como resultado costo 59"
   ]
  },
  {
   "cell_type": "code",
   "execution_count": null,
   "metadata": {},
   "outputs": [],
   "source": [
    "G = [\n",
    "[]\n",
    "]\t[(1, 5), (2, 5), (3, 4), (4, 7), (5, 9), (6, 12), (7, 10), (8, 7), (9, 10), (10, 10), (11, 12), (12, 14), (13, 15), (14, 15), (15, 14)], \n",
    "\t[(2, 4), (3, 3), (4, 4), (5, 6), (6, 9), (7, 7), (8, 6), (9, 9), (10, 9), (11, 11), (12, 13), (13, 14), (14, 13), (15, 13)], \n",
    "\t[(3, 3), (4, 6), (5, 8), (6, 9), (7, 8), (8, 4), (9, 7), (10, 7), (11, 9), (12, 11), (13, 12), (14, 11), (15, 11)], \n",
    "\t[(4, 5), (5, 7), (6, 9), (7, 7), (8, 5), (9, 8), (10, 8), (11, 10), (12, 12), (13, 13), (14, 12), (15, 12)], \n",
    "\t[(5, 4), (6, 7), (7, 4), (8, 4), (9, 8), (10, 7), (11, 9), (12, 11), (13, 12), (14, 11), (15, 12)], \n",
    "\t[(6, 9), (7, 6), (8, 7), (9, 11), (10, 9), (11, 11), (12, 14), (13, 14), (14, 13), (15, 15)], \n",
    "\t[(7, 5), (8, 6), (9, 7), (10, 4), (11, 5), (12, 8), (13, 7), (14, 6), (15, 6)], \n",
    "\t[(8, 6), (9, 8), (10, 6), (11, 8), (12, 11), (13, 10), (14, 9), (15, 11)], \n",
    "\t[(9, 5), (10, 5), (11, 7), (12, 9), (13, 10), (14, 9), (15, 9)], \n",
    "\t[(10, 5), (11, 4), (12, 6), (13, 7), (14, 7), (15, 6)], \n",
    "\t[(11, 4), (12, 7), (13, 7), (14, 6), (15, 7)], \n",
    "\t[(12, 4), (13, 5), (14, 4), (15, 5)],\n",
    "\t[(13, 4), (14, 6), (15, 3)],\n",
    "\t[(14, 4), (15, 5)], \n",
    "\t[(15, 7)],"
   ]
  }
 ],
 "metadata": {
  "kernelspec": {
   "display_name": "Python 3",
   "language": "python",
   "name": "python3"
  },
  "language_info": {
   "codemirror_mode": {
    "name": "ipython",
    "version": 3
   },
   "file_extension": ".py",
   "mimetype": "text/x-python",
   "name": "python",
   "nbconvert_exporter": "python",
   "pygments_lexer": "ipython3",
   "version": "3.8.3"
  }
 },
 "nbformat": 4,
 "nbformat_minor": 4
}
